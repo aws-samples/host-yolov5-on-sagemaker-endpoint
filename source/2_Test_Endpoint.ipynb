{
 "cells": [
  {
   "cell_type": "markdown",
   "id": "c1559e16-ac7a-461c-91df-f6c2bf9965aa",
   "metadata": {},
   "source": [
    "# Using this Notebook to test the Amazon SageMaker Endpoint\n",
    "---"
   ]
  },
  {
   "cell_type": "markdown",
   "id": "8160ec91-d971-482d-8f28-9245914d21ff",
   "metadata": {},
   "source": [
    "## Importing Libraries:"
   ]
  },
  {
   "cell_type": "code",
   "execution_count": null,
   "id": "dabc63b8-44cf-4d69-87c8-a03539c568d4",
   "metadata": {},
   "outputs": [],
   "source": [
    "import os\n",
    "import tensorflow as tf\n",
    "from tensorflow.keras import backend\n",
    "from sagemaker.tensorflow import TensorFlowModel\n",
    "import cv2, numpy as np"
   ]
  },
  {
   "cell_type": "markdown",
   "id": "d6cbdccc-57b8-49b2-b888-1b7fbbfeee93",
   "metadata": {},
   "source": [
    "## Test the SageMaker Endpoint:"
   ]
  },
  {
   "cell_type": "code",
   "execution_count": null,
   "id": "4dfb9a83-a421-4bb2-99ff-accf4572fd38",
   "metadata": {},
   "outputs": [],
   "source": [
    "ENDPOINT_NAME = 'yolov5-demo'\n",
    "\n",
    "IMAGE_FILENAME = '</path/to/image.png>'\n",
    "\n",
    "orig_image = cv2.imread(IMAGE_FILENAME)\n",
    "\n",
    "modelHeight, modelWidth = 640, 640\n",
    "\n",
    "resized_image = cv2.resize(orig_image.copy(), (modelWidth, modelHeight), interpolation = cv2.INTER_AREA)\n",
    "data = np.array(resized_image.astype(np.float32)/255.)\n",
    "payload = json.dumps([data.tolist()])\n",
    "response = runtime.invoke_endpoint(EndpointName=ENDPOINT_NAME, ContentType='application/json', Body=payload)\n",
    "result = json.loads(response['Body'].read().decode())\n",
    "\n",
    "print('Results: ', result)"
   ]
  }
 ],
 "metadata": {
  "kernelspec": {
   "display_name": "Python 3 (ipykernel)",
   "language": "python",
   "name": "python3"
  },
  "language_info": {
   "codemirror_mode": {
    "name": "ipython",
    "version": 3
   },
   "file_extension": ".py",
   "mimetype": "text/x-python",
   "name": "python",
   "nbconvert_exporter": "python",
   "pygments_lexer": "ipython3",
   "version": "3.9.13"
  }
 },
 "nbformat": 4,
 "nbformat_minor": 5
}
