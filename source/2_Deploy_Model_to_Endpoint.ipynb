{
 "cells": [
  {
   "cell_type": "markdown",
   "id": "c1559e16-ac7a-461c-91df-f6c2bf9965aa",
   "metadata": {},
   "source": [
    "# Using this Notebook to deploy a YOLOv5 model to Amazon SageMaker Endpoint\n",
    "---"
   ]
  },
  {
   "cell_type": "markdown",
   "id": "8160ec91-d971-482d-8f28-9245914d21ff",
   "metadata": {},
   "source": [
    "## Importing Libraries:"
   ]
  },
  {
   "cell_type": "code",
   "execution_count": null,
   "id": "dabc63b8-44cf-4d69-87c8-a03539c568d4",
   "metadata": {},
   "outputs": [],
   "source": [
    "import os\n",
    "import tensorflow as tf\n",
    "from tensorflow.keras import backend\n",
    "from sagemaker.tensorflow import TensorFlowModel\n",
    "import cv2, numpy as np"
   ]
  },
  {
   "cell_type": "markdown",
   "id": "d6928479",
   "metadata": {},
   "source": [
    "## Setting up YOLOv5 model for SageMaker:\n",
    "\n",
    "### Download YOLOv5 pre-trained models:\n",
    "- Download any PyTorch models from here: https://github.com/ultralytics/yolov5/releases\n",
    "- Here we will use `yolov5s.pt` model from: https://github.com/ultralytics/yolov5/releases/download/v6.1/yolov5s.pt"
   ]
  },
  {
   "cell_type": "code",
   "execution_count": null,
   "id": "774d219a",
   "metadata": {},
   "outputs": [],
   "source": [
    "!git clone https://github.com/ultralytics/yolov5\n",
    "!cd yolov5\n",
    "!pip install -r requirements.txt tensorflow-cpu\n",
    "!python export.py --weights yolov5s.pt --include saved_model --nms\n",
    "!mkdir export && mkdir export/Servo\n",
    "!mv yolov5s_saved_model export/Servo/1"
   ]
  },
  {
   "cell_type": "markdown",
   "id": "0949ec95-8062-4155-8fb0-813cc1b187c5",
   "metadata": {},
   "source": [
    "## Define the Model Path and the IAM Role:"
   ]
  },
  {
   "cell_type": "code",
   "execution_count": null,
   "id": "c607e754-cf14-4f36-b318-6e7428654aba",
   "metadata": {},
   "outputs": [],
   "source": [
    "model_data = '<s3://<model.tar.gz path>'\n",
    "role = '<IAM ROLE>'"
   ]
  },
  {
   "cell_type": "markdown",
   "id": "70b7e244-dfbf-456f-a5c4-a06958bb2329",
   "metadata": {},
   "source": [
    "## Create a SageMaker TensorFlow Model:"
   ]
  },
  {
   "cell_type": "code",
   "execution_count": null,
   "id": "fa4ab568-8300-4951-92e5-414ce6ce8338",
   "metadata": {},
   "outputs": [],
   "source": [
    "model = TensorFlowModel(model_data=model_data, \n",
    "                        framework_version='2.3', role=role)"
   ]
  },
  {
   "cell_type": "markdown",
   "id": "21d79a07-1b52-481f-99f8-5952033b1231",
   "metadata": {},
   "source": [
    "## Deploy the model on SageMaker Endpoint:"
   ]
  },
  {
   "cell_type": "code",
   "execution_count": null,
   "id": "09e15007-f23a-449e-b977-eadb273f4745",
   "metadata": {},
   "outputs": [],
   "source": [
    "INSTANCE_TYPE = 'ml.m5.xlarge'\n",
    "ENDPOINT_NAME = 'yolov5-demo'\n",
    "\n",
    "predictor = model.deploy(initial_instance_count=1, \n",
    "                         instance_type=INSTANCE_TYPE,\n",
    "                         endpoint_name=ENDPOINT_NAME)"
   ]
  }
 ],
 "metadata": {
  "kernelspec": {
   "display_name": "Python 3 (ipykernel)",
   "language": "python",
   "name": "python3"
  },
  "language_info": {
   "codemirror_mode": {
    "name": "ipython",
    "version": 3
   },
   "file_extension": ".py",
   "mimetype": "text/x-python",
   "name": "python",
   "nbconvert_exporter": "python",
   "pygments_lexer": "ipython3",
   "version": "3.9.13"
  }
 },
 "nbformat": 4,
 "nbformat_minor": 5
}
