{
 "cells": [
  {
   "cell_type": "markdown",
   "id": "chubby-policy",
   "metadata": {},
   "source": [
    "# Using this Notebook to deploy a YOLOv5 model to Amazon SageMaker Endpoint\n",
    "---"
   ]
  },
  {
   "cell_type": "markdown",
   "id": "fourth-yugoslavia",
   "metadata": {},
   "source": [
    "## Importing Libraries:"
   ]
  },
  {
   "cell_type": "code",
   "execution_count": 1,
   "id": "classical-forward",
   "metadata": {},
   "outputs": [],
   "source": [
    "import os\n",
    "import tensorflow as tf\n",
    "from tensorflow.keras import backend\n",
    "from sagemaker.tensorflow import TensorFlowModel\n"
   ]
  },
  {
   "cell_type": "markdown",
   "id": "parallel-blank",
   "metadata": {},
   "source": [
    "## Setting up YOLOv5 model for SageMaker:\n",
    "\n",
    "### Download YOLOv5 pre-trained models:\n",
    "- Download any PyTorch models from here: https://github.com/ultralytics/yolov5/releases\n",
    "- Here we will use `yolov5s.pt` model from: https://github.com/ultralytics/yolov5/releases/download/v6.1/yolov5s.pt"
   ]
  },
  {
   "cell_type": "markdown",
   "id": "through-institute",
   "metadata": {},
   "source": [
    "## Preparing model.tar.gz for deploying to Sagemaker Endpoint\n",
    "Pretrained YoloV5 models can be accessed through https://github.com/ultralytics/yolov5\n",
    "\n",
    "First, `git clone https://github.com/ultralytics/yolov5`, then within the `yolov5` directory, you can retrieve a pretrained yolov5 model by running the following command: `python export.py --weights yolov5l.pt --include saved_model --nms`. This will create a directory called `yolov5l_saved_model`. \n",
    "\n",
    "In order to deploy this model onto SageMaker Endpoints, it must be packaged in the following structure:\n",
    "\n",
    "```\n",
    "export\n",
    "└──Servo\n",
    "   └──1\n",
    "      │  saved_model.pb\n",
    "      └──assets\n",
    "      └──variables\n",
    "         │ variables.data-00000-of-00001\n",
    "         │ variables.index\n",
    "```\n",
    "\n",
    "To get the correct data structure for `model.tar.gz`, copy the contents from `yolov5l_saved_model` into `export/Servo/1/`. Once you have the correct, directory structure for your model, use `tar -czvf model.tar.gz export` to get your `model.tar.gz`.\n",
    "\n",
    "Upload `model.tar.gz` to your s3 bucket of your choice, and make sure your ec2 instance or sagemaker instance has the correct IAM roles to access the s3 bucket where `model.tar.gz` will be located. \n",
    "\n",
    "In my case, my `model.tar.gz` will be uploaded to `s3://sagemaker-us-east-1-171547146718/model.tar.gz`\n",
    "\n",
    "The following commands can be used in terminal to generate all the necessary `model.tar.gz` object:\n",
    "\n",
    "```\n",
    "cd host-yolov5-on-sagemaker-endpoint\n",
    "git clone https://github.com/ultralytics/yolov5\n",
    "cd yolov5\n",
    "pip install -r requirements.txt tensorflow-cpu\n",
    "python export.py --weights yolov5l.pt --include saved_model --nms\n",
    "mkdir export && mkdir export/Servo\n",
    "mv yolov5l_saved_model export/Servo/1\n",
    "tar -czvf model.tar.gz export```"
   ]
  },
  {
   "cell_type": "markdown",
   "id": "charitable-sustainability",
   "metadata": {},
   "source": [
    "## Define the Model Path and the IAM Role:"
   ]
  },
  {
   "cell_type": "code",
   "execution_count": null,
   "id": "induced-gasoline",
   "metadata": {},
   "outputs": [],
   "source": [
    "model_data = '<s3://<model.tar.gz path>'\n",
    "role = '<IAM ROLE>'"
   ]
  },
  {
   "cell_type": "markdown",
   "id": "under-incident",
   "metadata": {},
   "source": [
    "## Create a SageMaker TensorFlow Model:"
   ]
  },
  {
   "cell_type": "code",
   "execution_count": null,
   "id": "tutorial-mobility",
   "metadata": {},
   "outputs": [],
   "source": [
    "model = TensorFlowModel(model_data=model_data, \n",
    "                        framework_version='2.3', role=role)"
   ]
  },
  {
   "cell_type": "markdown",
   "id": "accurate-copper",
   "metadata": {},
   "source": [
    "## Deploy the model on SageMaker Endpoint:"
   ]
  },
  {
   "cell_type": "code",
   "execution_count": null,
   "id": "sharp-greene",
   "metadata": {},
   "outputs": [],
   "source": [
    "INSTANCE_TYPE = 'ml.m5.xlarge'\n",
    "ENDPOINT_NAME = 'yolov5l-demo'\n",
    "\n",
    "predictor = model.deploy(initial_instance_count=1, \n",
    "                         instance_type=INSTANCE_TYPE,\n",
    "                         endpoint_name=ENDPOINT_NAME)"
   ]
  }
 ],
 "metadata": {
  "kernelspec": {
   "display_name": "Environment (conda_tensorflow2_p38)",
   "language": "python",
   "name": "conda_tensorflow2_p38"
  },
  "language_info": {
   "codemirror_mode": {
    "name": "ipython",
    "version": 3
   },
   "file_extension": ".py",
   "mimetype": "text/x-python",
   "name": "python",
   "nbconvert_exporter": "python",
   "pygments_lexer": "ipython3",
   "version": "3.8.12"
  }
 },
 "nbformat": 4,
 "nbformat_minor": 5
}
