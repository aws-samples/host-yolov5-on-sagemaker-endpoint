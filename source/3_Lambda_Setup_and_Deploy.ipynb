{
 "cells": [
  {
   "cell_type": "markdown",
   "id": "attractive-exemption",
   "metadata": {},
   "source": [
    "# Using this Notebook to create Lambda Layers and deploy Lambda app to run the SAmazon SageMaker Endpoint\n",
    "---"
   ]
  },
  {
   "cell_type": "markdown",
   "id": "green-worse",
   "metadata": {},
   "source": [
    "## Run Docker to build OpenCV Lambda Layers:"
   ]
  },
  {
   "cell_type": "code",
   "execution_count": null,
   "id": "informal-bacon",
   "metadata": {},
   "outputs": [],
   "source": [
    "!pushd ../docker\n",
    "!docker build --tag aws-lambda-layers:latest .\n",
    "!docker run -rm -it -v $(pwd):/layers aws-lambda-layers cp /packages/cv2-python37.zip /layers\n",
    "!popd"
   ]
  },
  {
   "cell_type": "markdown",
   "id": "economic-winter",
   "metadata": {},
   "source": [
    "## Push the OpenCV Lambda Layers zip to AWS Lambda and create the Lambda Layer:\n",
    "\n",
    "- Need to provide the Amazon S3 bucket location to upload the Lambda script:\n",
    "    `s3://<BUCKET>/<PATH/TO/STORE/ARTIFACTS>`"
   ]
  },
  {
   "cell_type": "code",
   "execution_count": null,
   "id": "impressive-modern",
   "metadata": {},
   "outputs": [],
   "source": [
    "!aws s3 cp layers/cv2-python37.zip s3://<BUCKET>/<PATH/TO/STORE/ARTIFACTS>\n",
    "!aws lambda publish-layer-version --layer-name cv2 --description \"Open CV\" --content S3Bucket=<BUCKET>,S3Key=<PATH/TO/STORE/ARTIFACTS>/cv2-python37.zip --compatible-runtimes python3.7"
   ]
  },
  {
   "cell_type": "markdown",
   "id": "worldwide-title",
   "metadata": {},
   "source": [
    "## Deploy the Lambda function and connect the OpenCV Lambda Layers:\n",
    "\n",
    "- Need to provide the Amazon S3 bucket location to upload the Lambda script:\n",
    "    `s3://<BUCKET>/<PATH/TO/STORE/FUNCTION>`"
   ]
  },
  {
   "cell_type": "code",
   "execution_count": null,
   "id": "classical-semiconductor",
   "metadata": {},
   "outputs": [],
   "source": [
    "!pushd ../lambda\n",
    "!zip app.zip app.py\n",
    "!aws s3 cp app.zip s3://<BUCKET>/<PATH/TO/STORE/FUNCTION>\n",
    "!aws lambda create-function --function-name yolov5-lambda --handler app.lambda_handler --region us-east-1 --runtime python3.7 --environment \"\"Variables={BUCKET_NAME=$BUCKET_NAME,S3_KEY=$S3_KEY}\"\" --code S3Bucket=<BUCKET>,S3Key=\"<PATH/TO/STORE/FUNCTION/app.zip>\"\n",
    "!popd\n",
    "!aws lambda update-function-configuration --function-name yolov5-lambda --layers cv2"
   ]
  }
 ],
 "metadata": {
  "kernelspec": {
   "display_name": "Python 3",
   "language": "python",
   "name": "python3"
  },
  "language_info": {
   "codemirror_mode": {
    "name": "ipython",
    "version": 3
   },
   "file_extension": ".py",
   "mimetype": "text/x-python",
   "name": "python",
   "nbconvert_exporter": "python",
   "pygments_lexer": "ipython3",
   "version": "3.7.10"
  }
 },
 "nbformat": 4,
 "nbformat_minor": 5
}
